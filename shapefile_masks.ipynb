{
 "cells": [
  {
   "cell_type": "code",
   "execution_count": null,
   "id": "872a30b3-03e5-42df-8d44-f4a9d586cabb",
   "metadata": {},
   "outputs": [],
   "source": [
    "\"\"\"This notebook precalculates the masks for ACS shapefiles for 5km data AGCD_05i.\n",
    "Author: Gen Tolhurst, Email: gentolhurst@gmail.com\"\"\""
   ]
  },
  {
   "cell_type": "code",
   "execution_count": 1,
   "id": "90d6c859-32cb-42c6-b09a-9133da2b810d",
   "metadata": {},
   "outputs": [
    {
     "name": "stdout",
     "output_type": "stream",
     "text": [
      "/g/data/mn51/users/gt3409/acs_shapefiles\n"
     ]
    }
   ],
   "source": [
    "cd /g/data/mn51/users/gt3409/acs_shapefiles/"
   ]
  },
  {
   "cell_type": "code",
   "execution_count": 4,
   "id": "36df8466-3b8d-41bb-8467-4954622cfff2",
   "metadata": {},
   "outputs": [],
   "source": [
    "import xarray as xr\n",
    "import geopandas as gpd\n",
    "import regionmask\n",
    "from glob import glob\n",
    "import numpy as np\n",
    "import pandas as pd"
   ]
  },
  {
   "cell_type": "code",
   "execution_count": 5,
   "id": "1083fdfc-76d4-4ef1-bf76-39f070c30341",
   "metadata": {},
   "outputs": [],
   "source": [
    "# Get regionmask object from the shapefiles \n",
    "\n",
    "shapefile_list = [\"aus_local_gov\",\n",
    "                  \"aus_states_territories\",\n",
    "                  \"australia\", \n",
    "                  \"broadacre_regions\", \n",
    "                  \"ncra_regions\", \n",
    "                  \"NCRA_regions_coastal_waters_GDA94\", \n",
    "                  \"nrm_regions\", ]\n",
    "\n",
    "name_dict = {\"aus_local_gov\":\"LGA_NAME22\", \n",
    "             \"aus_states_territories\":\"STE_NAME21\",\n",
    "             \"australia\": \"AUS_NAME21\",\n",
    "             \"broadacre_regions\": \"name\",\n",
    "             \"ncra_regions\": \"regionname\", \n",
    "             \"NCRA_regions_coastal_waters_GDA94\": \"regionname\",\n",
    "             \"nrm_regions\":\"SubClusNm\",\n",
    "            }\n",
    "\n",
    "\n",
    "abbr_dict = {\"aus_local_gov\":\"LGA_CODE22\", \n",
    "             \"aus_states_territories\":\"ABBREV\",\n",
    "             \"australia\": \"AUS_CODE21\",\n",
    "             \"broadacre_regions\": \"aagis\",\n",
    "             \"ncra_regions\": \"short_name\", \n",
    "             \"NCRA_regions_coastal_waters_GDA94\": \"NCRA\",\n",
    "             \"nrm_regions\": \"SubClusAb\",\n",
    "            }\n",
    "\n",
    "def get_regions(shapefiles):\n",
    "    \"\"\"\n",
    "    This function takes a list of names of shape files from ia39 and\n",
    "    returns a combined regionmask.\n",
    "    \n",
    "    Parameters\n",
    "    -----------\n",
    "    name: str\n",
    "        one of \"aus_local_gov\", \"aus_states_territories\", \"australia\", \n",
    "        \"nrm_regions\", \"ncra_regions\",\"broadacre_regions\",\n",
    "        \"NCRA_regions_coastal_waters_GDA94\"\n",
    "\n",
    "    Returns\n",
    "    -------\n",
    "    geopandas dataframe\n",
    "    \n",
    "    \"\"\"\n",
    "    gdfs = {}\n",
    "    PATH = \"/g/data/ia39/aus-ref-clim-data-nci/shapefiles/data\"\n",
    "    \n",
    "    for i, shapefile in enumerate(shapefiles):\n",
    "        gdfs[i] = gpd.read_file(glob(f\"{PATH}/{shapefile}/*.shp\")[0]).rename(columns = {name_dict[shapefile]:\"NAME\", abbr_dict[shapefile]:\"abbrevs\"}).to_crs(crs = \"GDA2020\")\n",
    "    gdf = pd.concat(gdfs)\n",
    "    gdf.index = np.arange(0, len(gdf))\n",
    "    return regionmask.from_geopandas(gdf, names=\"NAME\", abbrevs=\"abbrevs\", name= \"-\".join(shapefiles), overlap=True) "
   ]
  },
  {
   "cell_type": "code",
   "execution_count": 6,
   "id": "1c1fa2f5-4317-4ecf-bcb1-e746c3246781",
   "metadata": {},
   "outputs": [],
   "source": [
    "# open any dataset to get the lat lon grid for AGCD-05i\n",
    "ds_agcd05i = xr.open_dataset('/g/data/ia39/australian-climate-service/test-data/CORDEX-CMIP6/bias-adjustment-output/AGCD-05i/BOM/ACCESS-CM2/historical/r4i1p1f1/BARPA-R/v1-r1-ACS-QME-AGCD-1960-2022/day/tasmaxAdjust/tasmaxAdjust_AGCD-05i_ACCESS-CM2_historical_r4i1p1f1_BOM_BARPA-R_v1-r1-ACS-QME-AGCD-1960-2022_day_20140101-20141231.nc')"
   ]
  },
  {
   "cell_type": "code",
   "execution_count": 22,
   "id": "481e0c6f-82d1-441f-9bd7-4526f54a6e33",
   "metadata": {},
   "outputs": [],
   "source": [
    "# Make a netcdf fractional mask file for all shapefiles in list and save it\n",
    "# This one is especially memory intensive, particularly for the LGA file with many areas\n",
    "directory = \"/g/data/ia39/aus-ref-clim-data-nci/shapefiles/masks/AGCD-05i\"\n",
    "\n",
    "for shp in shapefile_list:\n",
    "    regions = get_regions([shp])\n",
    "    mask = regions.mask_3D_frac_approx(ds_agcd05i).to_netcdf(f\"{directory}/mask-3D-frac-approx_{shp.replace('_', '-')}.nc\")\n"
   ]
  },
  {
   "cell_type": "code",
   "execution_count": 23,
   "id": "08ed1765-aa98-40ad-921d-0993c5dd0d5e",
   "metadata": {},
   "outputs": [],
   "source": [
    "# Make a netcdf centred mask file for all shapefiles in list and save it\n",
    "directory = \"/g/data/ia39/aus-ref-clim-data-nci/shapefiles/masks/AGCD-05i\"\n",
    "\n",
    "for shp in shapefile_list:\n",
    "    regions = get_regions([shp])\n",
    "    mask = regions.mask_3D(ds_agcd05i).to_netcdf(f\"{directory}/mask-3D_{shp.replace('_', '-')}.nc\")"
   ]
  },
  {
   "cell_type": "code",
   "execution_count": null,
   "id": "32cb8eed-b46a-49a9-bbee-9ed0cc801457",
   "metadata": {},
   "outputs": [],
   "source": []
  },
  {
   "cell_type": "code",
   "execution_count": null,
   "id": "9c0a74f0-eaaf-4e08-ae2c-259cab0cd303",
   "metadata": {},
   "outputs": [],
   "source": []
  }
 ],
 "metadata": {
  "kernelspec": {
   "display_name": "Python [conda env:analysis3-24.04] *",
   "language": "python",
   "name": "conda-env-analysis3-24.04-py"
  },
  "language_info": {
   "codemirror_mode": {
    "name": "ipython",
    "version": 3
   },
   "file_extension": ".py",
   "mimetype": "text/x-python",
   "name": "python",
   "nbconvert_exporter": "python",
   "pygments_lexer": "ipython3",
   "version": "3.10.14"
  }
 },
 "nbformat": 4,
 "nbformat_minor": 5
}
